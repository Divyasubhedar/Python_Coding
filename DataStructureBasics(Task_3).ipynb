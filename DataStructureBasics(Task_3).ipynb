{
 "cells": [
  {
   "cell_type": "code",
   "execution_count": 48,
   "metadata": {},
   "outputs": [
    {
     "name": "stdout",
     "output_type": "stream",
     "text": [
      "[2, 10, 34, 6, 21, 56]\n",
      "[2.5, 'Consultad', 'Training', 5]\n"
     ]
    }
   ],
   "source": [
    "# 1. Create a list of the 10 elements of four different types of Data Type like int, string, complex and float.\n",
    "list_1 = [2, 10, 34, 6, 21, 56] \n",
    "print(list_1)\n",
    "\n",
    "list_2 = [2.5, 'Consultad', 'Training', 5]\n",
    "print(list_2)\n",
    "\n",
    "\n"
   ]
  },
  {
   "cell_type": "code",
   "execution_count": 55,
   "metadata": {},
   "outputs": [
    {
     "name": "stdout",
     "output_type": "stream",
     "text": [
      "Slicing Output:  [34, 6, 21]\n",
      "Reverse Output:  [56, 21, 6, 34, 10, 2]\n"
     ]
    }
   ],
   "source": [
    "# 2. Create a list of size 5 and execute the slicing structure. \n",
    "M = [2, 10, 34, 6, 21, 56]\n",
    "\n",
    "slicing = M[2:5]\n",
    "print(\"Slicing Output: \",slicing)\n",
    "\n",
    "reverse=M[::-1]\n",
    "print(\"Reverse Output: \",reverse)\n",
    "\n"
   ]
  },
  {
   "cell_type": "code",
   "execution_count": 56,
   "metadata": {},
   "outputs": [
    {
     "name": "stdout",
     "output_type": "stream",
     "text": [
      "Sum of the elements :  387\n",
      "Multiplication of all elements is :  [18, 30, 102, 18, 63, 168]\n",
      "Multiplication of all elements is :  [18, 90, 102, 18, 63, 168]\n",
      "Multiplication of all elements is :  [18, 90, 306, 18, 63, 168]\n",
      "Multiplication of all elements is :  [18, 90, 306, 54, 63, 168]\n",
      "Multiplication of all elements is :  [18, 90, 306, 54, 189, 168]\n",
      "Multiplication of all elements is :  [18, 90, 306, 54, 189, 504]\n"
     ]
    }
   ],
   "source": [
    "# 3.Write a program to get the sum and multiply of all the items in a given list. \n",
    "sum_list1=sum(list_1)\n",
    "print(\"Sum of the elements : \",sum_list1)\n",
    "\n",
    "for i in range(len(list_1)):\n",
    "    list_1[i] = list_1[i]*3\n",
    "    print(\"Multiplication of all elements is : \",list_1 )"
   ]
  },
  {
   "cell_type": "code",
   "execution_count": 57,
   "metadata": {},
   "outputs": [
    {
     "name": "stdout",
     "output_type": "stream",
     "text": [
      "Numbers:  [18, 90, 306, 54, 189, 504]\n",
      "The largerst number is:  504\n",
      "The smallest number is:  18\n"
     ]
    }
   ],
   "source": [
    "# 4.   Find the largest and smallest number from a given list. \n",
    "print(\"Numbers: \",list_1)\n",
    "print(\"The largerst number is: \",max(list_1))\n",
    "print(\"The smallest number is: \",min(list_1))"
   ]
  },
  {
   "cell_type": "code",
   "execution_count": 58,
   "metadata": {},
   "outputs": [
    {
     "name": "stdout",
     "output_type": "stream",
     "text": [
      "[1, 3, 5, 33]\n"
     ]
    }
   ],
   "source": [
    "# 5. Create a new list which contains the specified numbers after removing the even numbers from a predefined list.\n",
    "\n",
    "list_2= [1,2,3,4,5,6,10,34,8,33]\n",
    "list=[]\n",
    "for i in list_2:\n",
    "    if i%2!=0:\n",
    "        list.append(i)\n",
    "print(list)"
   ]
  },
  {
   "cell_type": "code",
   "execution_count": 59,
   "metadata": {},
   "outputs": [
    {
     "name": "stdout",
     "output_type": "stream",
     "text": [
      "list of first and last 5 elements : [1, 4, 9, 16, 25, 676, 729, 784, 841, 900]\n"
     ]
    }
   ],
   "source": [
    "Data = []\n",
    "\n",
    "for i in range(1,31):\n",
    "    if i <=5:\n",
    "        Data.append(i**2)\n",
    "    if i >=26:\n",
    "        Data.append(i**2)\n",
    "print(\"list of first and last 5 elements :\",Data)"
   ]
  },
  {
   "cell_type": "code",
   "execution_count": 60,
   "metadata": {},
   "outputs": [
    {
     "name": "stdout",
     "output_type": "stream",
     "text": [
      "Removed Number :  10\n",
      "Final List :  [1, 3, 5, 7, 9, 2, 4, 6, 8]\n"
     ]
    }
   ],
   "source": [
    "l1 = [1,3,5,7,9,10]\n",
    "l2 = [2,4,6,8]\n",
    "print(\"Removed Number : \",l1[-1])\n",
    "l1[-1:]=l2\n",
    "print(\"Final List : \",l1)"
   ]
  }
 ],
 "metadata": {
  "kernelspec": {
   "display_name": "Python 3",
   "language": "python",
   "name": "python3"
  },
  "language_info": {
   "codemirror_mode": {
    "name": "ipython",
    "version": 3
   },
   "file_extension": ".py",
   "mimetype": "text/x-python",
   "name": "python",
   "nbconvert_exporter": "python",
   "pygments_lexer": "ipython3",
   "version": "3.7.4"
  }
 },
 "nbformat": 4,
 "nbformat_minor": 2
}
