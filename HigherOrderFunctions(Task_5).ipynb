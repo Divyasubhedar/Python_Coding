{
 "cells": [
  {
   "cell_type": "code",
   "execution_count": 5,
   "metadata": {},
   "outputs": [
    {
     "name": "stdout",
     "output_type": "stream",
     "text": [
      "7,14,28\n"
     ]
    }
   ],
   "source": [
    "#Write a program to Python find the values which is not divisible 3 but is should be a multiple of 7. Make sure to use only higher order function. \n",
    "nl=[]\n",
    "for x in range(1 , 31):\n",
    "    if (x%3!=0) and (x%7==0):\n",
    "        nl.append(str(x))\n",
    "print (','.join(nl))\n"
   ]
  },
  {
   "cell_type": "code",
   "execution_count": 9,
   "metadata": {},
   "outputs": [
    {
     "name": "stdout",
     "output_type": "stream",
     "text": [
      "[4, 6, 8, 10]\n"
     ]
    }
   ],
   "source": [
    "# Write a program in Python to  multiple the element of list by itself using a traditional function and pass the function to map to complete the operation. \n",
    "def addition(n): \n",
    "    return n + n \n",
    "\n",
    "numbers = (2, 3, 4, 5) \n",
    "result = map(addition, numbers) \n",
    "print(list(result)) \n"
   ]
  },
  {
   "cell_type": "code",
   "execution_count": 17,
   "metadata": {},
   "outputs": [
    {
     "data": {
      "text/plain": [
       "'DIVYASUBHEDAR'"
      ]
     },
     "execution_count": 17,
     "metadata": {},
     "output_type": "execute_result"
    }
   ],
   "source": [
    "#Write a program to Python find out the character in a string which is uppercase using list comprehension. \n",
    "  \n",
    "s = 'kmpDIVYAjdfhkdjSUBHEDAR'\n",
    "''.join([c for c in s if c.isupper()])\n"
   ]
  },
  {
   "cell_type": "code",
   "execution_count": 18,
   "metadata": {},
   "outputs": [
    {
     "name": "stdout",
     "output_type": "stream",
     "text": [
      "{'Smit': 'CSE', 'Jaya': 'Networking', 'Rayyan': 'Operating System'}\n"
     ]
    }
   ],
   "source": [
    "#Write a program to construct a dictionary from the two lists containing the names of students and their corresponding subjects. The dictionary should maps the students with their respective subjects. Let’s see how to do this using for loops and dictionary comprehension. HINT-Use Zip function also \n",
    "#•\tStudent = ['Smit', 'Jaya', 'Rayyan'] \n",
    "#•\tcapital = ['CSE', 'Networking', 'Operating System'] \n",
    " \n",
    "student = ['Smit', 'Jaya', 'Rayyan'] \n",
    "\n",
    "capital = ['CSE', 'Networking', 'Operating System'] \n",
    "\n",
    " \n",
    "dict1={x:y for x,y in zip(student,capital)}\n",
    "print(dict1)\n",
    " \n",
    " \n"
   ]
  },
  {
   "cell_type": "code",
   "execution_count": 19,
   "metadata": {},
   "outputs": [
    {
     "name": "stdout",
     "output_type": "stream",
     "text": [
      "gniniarT ddatlusnoC\n"
     ]
    }
   ],
   "source": [
    "#Write a program in Python using generators to reverse the string. Input String = “Consultadd Training”\n",
    "string_input='Consultadd Training'\n",
    "print(string_input[::-1])"
   ]
  },
  {
   "cell_type": "code",
   "execution_count": 72,
   "metadata": {},
   "outputs": [
    {
     "name": "stdout",
     "output_type": "stream",
     "text": [
      "<function hi.<locals>.greet at 0x0000024A3C70A288>\n",
      "now you are in the greet() function\n"
     ]
    }
   ],
   "source": [
    " #Write any example on decorators. \n",
    "def hi(name=\"yasoob\"):\n",
    "    def greet():\n",
    "        return \"now you are in the greet() function\"\n",
    "\n",
    "    def welcome():\n",
    "        return \"now you are in the welcome() function\"\n",
    "\n",
    "    if name == \"yasoob\":\n",
    "        return greet\n",
    "    else:\n",
    "        return welcome\n",
    "\n",
    "a = hi()\n",
    "print(a)\n",
    "print(a())"
   ]
  }
 ],
 "metadata": {
  "kernelspec": {
   "display_name": "Python 3",
   "language": "python",
   "name": "python3"
  },
  "language_info": {
   "codemirror_mode": {
    "name": "ipython",
    "version": 3
   },
   "file_extension": ".py",
   "mimetype": "text/x-python",
   "name": "python",
   "nbconvert_exporter": "python",
   "pygments_lexer": "ipython3",
   "version": "3.7.4"
  }
 },
 "nbformat": 4,
 "nbformat_minor": 2
}
