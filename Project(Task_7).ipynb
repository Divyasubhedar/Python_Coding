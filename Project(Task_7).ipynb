{
 "cells": [
  {
   "cell_type": "code",
   "execution_count": 8,
   "metadata": {},
   "outputs": [
    {
     "name": "stdout",
     "output_type": "stream",
     "text": [
      "Enter Value of D10, 30, 20\n",
      "['10', ' 30', ' 20']\n",
      "5.773502691896258\n",
      "10.0\n",
      "8.16496580927726\n"
     ]
    }
   ],
   "source": [
    "#Write a program that calculates and prints the value according to the given formula: \n",
    "\n",
    "#Q= Square root of [(2*C*D)/H] \n",
    "\n",
    "#Following are the fixed values of C and H: \n",
    "\n",
    "#C is 50. H is 30. \n",
    "\n",
    "#D is the variable whose values should be input to your program in a comma-separated sequence. \n",
    "\n",
    "import math\n",
    "\n",
    "C=50\n",
    "H=30\n",
    "D=input('Enter Value of D')\n",
    "list_D=D.split(',')\n",
    "print(list_D)\n",
    "\n",
    "for i in range(len(list_D)):\n",
    "    Q=math.sqrt((2*C*int(list_D[i])/H))\n",
    "    print(Q)"
   ]
  },
  {
   "cell_type": "code",
   "execution_count": 10,
   "metadata": {},
   "outputs": [
    {
     "name": "stdout",
     "output_type": "stream",
     "text": [
      "0\n",
      "9\n"
     ]
    }
   ],
   "source": [
    "#Define a class named Shape and its subclass Square. The Square class has an init function which takes a length as argument. Both classes have an area function which can print the area of the shape where Shape’s area is 0 by default. \n",
    "\n",
    "class Shape:\n",
    "    def area(self,len=0):\n",
    "        res=len*len\n",
    "        return res\n",
    "class Square(Shape):\n",
    "    def _init_(self,length):\n",
    "      self.length=length\n",
    "    def area(self,len):\n",
    "        res = len*len \n",
    "        return res\n",
    "obj_S1 = Shape()\n",
    "print(obj_S1.area())\n",
    "obj_S2 = Square()\n",
    "\n",
    "print(obj_S2.area(3))"
   ]
  },
  {
   "cell_type": "code",
   "execution_count": 12,
   "metadata": {},
   "outputs": [
    {
     "name": "stdout",
     "output_type": "stream",
     "text": [
      "[[-10, 2, 8], [-7, -3, 10]]\n"
     ]
    },
    {
     "data": {
      "text/plain": [
       "[[-10, 2, 8], [-7, -3, 10]]"
      ]
     },
     "execution_count": 12,
     "metadata": {},
     "output_type": "execute_result"
    }
   ],
   "source": [
    "#Create a class to find the three elements that sum to zero from a set of n real numbers. \n",
    "\n",
    "#Input array: [-25,-10,-7,-3,2,4,8,10] \n",
    "\n",
    "#Output: [[-10,2,8],[-7,-3,10]] \n",
    "\n",
    "class ThreeElements:\n",
    "    def find_zero(self,array):\n",
    "        res_array=[]\n",
    "        for i in array:\n",
    "            for j in array:\n",
    "                for k in array:\n",
    "                    if i+j+k==0:\n",
    "                        x1=sorted([i,j,k])\n",
    "                        if x1 not in res_array:\n",
    "                            res_array.append(x1)\n",
    "        print (res_array)\n",
    "        return res_array\n",
    "\n",
    "test1=ThreeElements()\n",
    "test1.find_zero([-25,-10,-7,-3,2,4,8,10])\n",
    "  \n",
    "\n"
   ]
  },
  {
   "cell_type": "code",
   "execution_count": 14,
   "metadata": {},
   "outputs": [
    {
     "name": "stdout",
     "output_type": "stream",
     "text": [
      "Time is 4 hours and 10 minutes\n",
      "250 minutes\n"
     ]
    }
   ],
   "source": [
    "#Create a Time class and initialize it with hours and minutes. \n",
    "\n",
    "#Make a method addTime which should take two time object and add them. E.g.- (2 hour and 50 min)+(1 hr and 20 min) is (4 hr and 10 min) \n",
    "\n",
    "#Make a method displayTime which should print the time. \n",
    "\n",
    "#Make a method DisplayMinute which should display the total minutes in the Time. E.g.- (1 hr 2 min) should display 62 minute. \n",
    "\n",
    "class  Time(object):\n",
    "\n",
    "\n",
    "    def __init__(self, hours, minutes):\n",
    "        self.hours = hours\n",
    "        self.minutes = minutes\n",
    "\n",
    "    def addTime(t1, t2):\n",
    "        sum= Time(0, 0) # create a new object sum of class Time\n",
    "        sum.hours = t1.hours + t2.hours # sum of hours\n",
    "        sum.minutes = t1.minutes + t2.minutes # sum of minutes\n",
    "        while sum.minutes >= 60:  #if the minutes are more than 60\n",
    "            sum.hours= sum.hours +1\n",
    "            sum.minutes = sum.minutes - 60\n",
    "        return sum\n",
    "\n",
    "    def displayTime(self):\n",
    "        print(\"Time is %d hours and %d minutes\" %(self.hours, self.minutes))\n",
    "\n",
    "    def displayMinutes(self):\n",
    "        print((self.hours * 60) + self.minutes, \"minutes\")\n",
    "\n",
    "p = Time(2, 50)\n",
    "q = Time(1, 20)\n",
    "r = Time.addTime(p,q)\n",
    "\n",
    "r.displayTime()\n",
    "r.displayMinutes()\n"
   ]
  },
  {
   "cell_type": "code",
   "execution_count": null,
   "metadata": {},
   "outputs": [],
   "source": [
    "6.  Write a Person class with an instance variable, , and a constructor that takes an integer, , as a parameter. The constructor must assign  to  after confirming the argument passed as  is not negative; if a negative argument is passed as , the constructor should set  to  and print Age is not valid, setting age to 0.. In addition, you must write the following instance methods: \n",
    "\n",
    "yearPasses() should increase the  instance variable by . \n",
    "\n",
    "amIOld()  should perform the following conditional actions: \n",
    "\n",
    "If , print You are young.. \n",
    "\n",
    "If  and , print You are a teenager.. \n",
    "\n",
    "Otherwise, print You are old..  \n",
    "\n",
    "Sample Input: \n",
    "\n",
    "4 \n",
    "\n",
    "-1 \n",
    "\n",
    "10 \n",
    "\n",
    "16 \n",
    "\n",
    "18 \n",
    "\n",
    "Sample Output: \n",
    "\n",
    "Age is not valid, setting age to 0. \n",
    "\n",
    "You are young. \n",
    "\n",
    "You are young. \n",
    "\n",
    "  \n",
    "\n",
    "You are young. \n",
    "\n",
    "You are a teenager. \n",
    "\n",
    "  \n",
    "\n",
    "You are a teenager. \n",
    "\n",
    "You are old. \n",
    "\n",
    "  \n",
    "\n",
    "You are old. \n",
    "\n",
    "You are old. \n",
    "\n",
    " \n"
   ]
  },
  {
   "cell_type": "code",
   "execution_count": 15,
   "metadata": {},
   "outputs": [
    {
     "name": "stdout",
     "output_type": "stream",
     "text": [
      "You are young.\n",
      "You are a teenager.\n"
     ]
    }
   ],
   "source": [
    "class person:\n",
    "    def __init__(self,a=0):\n",
    "        if a<0:\n",
    "            self.a=0\n",
    "            print('Age is not Valid, Setting age to 0')\n",
    "        else:\n",
    "            self.a=a\n",
    "        self.amiOld()\n",
    "        \n",
    "    def amiOld(self):\n",
    "        if self.a<18:\n",
    "            print('You are young.')\n",
    "        if self.a>10 and self.a<=20:\n",
    "            print('You are a teenager.')\n",
    "        else:\n",
    "            print('You are old')\n",
    "    \n",
    "    def yearPasses(self):\n",
    "        print('Year passed')\n",
    "\n",
    "individual1=person(15)"
   ]
  }
 ],
 "metadata": {
  "kernelspec": {
   "display_name": "Python 3",
   "language": "python",
   "name": "python3"
  },
  "language_info": {
   "codemirror_mode": {
    "name": "ipython",
    "version": 3
   },
   "file_extension": ".py",
   "mimetype": "text/x-python",
   "name": "python",
   "nbconvert_exporter": "python",
   "pygments_lexer": "ipython3",
   "version": "3.7.4"
  }
 },
 "nbformat": 4,
 "nbformat_minor": 2
}
